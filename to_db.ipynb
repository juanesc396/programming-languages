{
 "cells": [
  {
   "cell_type": "code",
   "execution_count": 1,
   "id": "92f9a47e",
   "metadata": {},
   "outputs": [],
   "source": [
    "import pandas as pd\n",
    "from sqlalchemy import create_engine\n",
    "import mysql.connector"
   ]
  },
  {
   "cell_type": "code",
   "execution_count": 2,
   "id": "0b8be077",
   "metadata": {},
   "outputs": [],
   "source": [
    "dbname = \"programming_languages\"\n",
    "username = \"root\""
   ]
  },
  {
   "cell_type": "code",
   "execution_count": 3,
   "id": "11066d21",
   "metadata": {},
   "outputs": [],
   "source": [
    "tt = pd.read_csv('./programming_languages.csv')"
   ]
  },
  {
   "cell_type": "code",
   "execution_count": 11,
   "id": "3d1497d9",
   "metadata": {},
   "outputs": [],
   "source": [
    "sql_engine = create_engine('mysql+mysqlconnector://root:@127.0.0.1/programming_languages')"
   ]
  },
  {
   "cell_type": "code",
   "execution_count": 12,
   "id": "78b1707b",
   "metadata": {},
   "outputs": [],
   "source": [
    "con = sql_engine.connect()"
   ]
  },
  {
   "cell_type": "code",
   "execution_count": null,
   "id": "6ede8093",
   "metadata": {},
   "outputs": [],
   "source": [
    "tt.to_sql(\n",
    "    name = 'programming languages',\n",
    "    con = con,\n",
    "    index = False,\n",
    "    if_exists = 'fail',\n",
    "    )"
   ]
  },
  {
   "cell_type": "code",
   "execution_count": 14,
   "id": "91a6a654",
   "metadata": {},
   "outputs": [],
   "source": [
    "con.close()"
   ]
  },
  {
   "cell_type": "code",
   "execution_count": null,
   "id": "4e531dc0",
   "metadata": {},
   "outputs": [],
   "source": []
  }
 ],
 "metadata": {
  "kernelspec": {
   "display_name": "Python 3 (ipykernel)",
   "language": "python",
   "name": "python3"
  },
  "language_info": {
   "codemirror_mode": {
    "name": "ipython",
    "version": 3
   },
   "file_extension": ".py",
   "mimetype": "text/x-python",
   "name": "python",
   "nbconvert_exporter": "python",
   "pygments_lexer": "ipython3",
   "version": "3.9.12"
  }
 },
 "nbformat": 4,
 "nbformat_minor": 5
}
