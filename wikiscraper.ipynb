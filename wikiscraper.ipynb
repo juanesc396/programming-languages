{
 "cells": [
  {
   "cell_type": "code",
   "execution_count": 1,
   "id": "276595c3",
   "metadata": {},
   "outputs": [],
   "source": [
    "import pandas as pd\n",
    "import requests\n",
    "import re\n",
    "from lxml import html\n",
    "import datetime"
   ]
  },
  {
   "cell_type": "code",
   "execution_count": 2,
   "id": "f5834b63",
   "metadata": {},
   "outputs": [],
   "source": [
    "headers = {\n",
    "\"User-Agent\": \"Mozilla/5.0 (Windows NT 10.0; Win64; x64) AppleWebKit/537.36 (KHTML, like Gecko) Chrome/100.0.4896.127 Safari/537.36\"\n",
    "}   "
   ]
  },
  {
   "cell_type": "code",
   "execution_count": 3,
   "id": "713ed504",
   "metadata": {},
   "outputs": [],
   "source": [
    "languages_link = 'https://en.wikipedia.org/wiki/List_of_programming_languages'\n",
    "wiki_link = 'https://en.wikipedia.org'"
   ]
  },
  {
   "cell_type": "code",
   "execution_count": 4,
   "id": "afdde029",
   "metadata": {},
   "outputs": [],
   "source": [
    "links_requests = requests.get('https://en.wikipedia.org/wiki/List_of_programming_languages')\n",
    "data = html.fromstring(links_requests.content)"
   ]
  },
  {
   "cell_type": "code",
   "execution_count": null,
   "id": "be23e20a",
   "metadata": {},
   "outputs": [],
   "source": [
    "l_links_to_scrape = data.xpath('//div[@class=\"div-col\"]//li//a/@href')"
   ]
  },
  {
   "cell_type": "code",
   "execution_count": 12,
   "id": "a84e49cb",
   "metadata": {},
   "outputs": [],
   "source": [
    "def wiki_scraper(url, data=data, headers=headers):\n",
    "    \"\"\"\n",
    "    This function extract and clean the data languages from Wikipedia\n",
    "    \"\"\"\n",
    "    # request\n",
    "    r = requests.get(wiki_link+url, headers=headers)\n",
    "    data = html.fromstring(r.content)    \n",
    "    \n",
    "    language_name = re.sub(' ((.*?)programming language).?', '', data.xpath('//h1//text()')[0])\n",
    "    \n",
    "    counter = 1\n",
    "    length = len(data.xpath('//table[@class=\"infobox vevent\"]//tr'))\n",
    "    temp = {}\n",
    "\n",
    "    while counter <= length:\n",
    "        language_feature = data.xpath('//table[@class=\"infobox vevent\"]//tr[{i}]//text()'.format(i=counter))\n",
    "        \n",
    "        # hyperlinks cleaner\n",
    "        for num in range(20):\n",
    "            for element in language_feature:  \n",
    "                if element == f'[{num}]':\n",
    "                    language_feature.remove(f'[{num}]') \n",
    "        \n",
    "        # \\n cleaner\n",
    "        if language_feature != [] and language_feature[-1] == '\\n':\n",
    "            language_feature.pop(-1)   \n",
    "        if language_feature != [] and len(language_feature) > 1 and language_feature[1] == '\\n':\n",
    "            language_feature.pop(1)            \n",
    "        for element in language_feature:\n",
    "            if element == '\\n':\n",
    "                idx = language_feature.index(element)\n",
    "                language_feature[idx] = ', '\n",
    "        \n",
    "        # data extracters\n",
    "        if language_feature == []:\n",
    "            pass\n",
    "        elif re.search('Designed', language_feature[0]):\n",
    "            if len(language_feature[1:]) > 1:\n",
    "                temp['designed_by'] = ''.join(language_feature[1:])\n",
    "            else:\n",
    "                temp['designed_by'] = language_feature[1:][0]\n",
    "            \n",
    "        elif re.search('Developer', language_feature[0]):\n",
    "            temp['developer'] = language_feature[1:]\n",
    "            temp['developer'] = temp['developer'][0]\n",
    "            \n",
    "        elif re.search('First.*appeared', language_feature[0]) or re.search('Initial.*release', language_feature[0]):\n",
    "            temp['initial release'] = language_feature[1:][0]\n",
    "            if re.search('\\d{4}', temp['initial release']):\n",
    "                temp['initial release'] = re.search('\\d{4}', temp['initial release']).group(0)\n",
    "        \n",
    "        elif re.search('OS', language_feature[0]):\n",
    "            if len(language_feature[1:]) > 1:\n",
    "                temp['OS'] = ''.join(language_feature[1:])\n",
    "            else:\n",
    "                temp['OS'] = language_feature[1:]\n",
    "        \n",
    "        elif re.search('Platform', language_feature[0]):\n",
    "            if len(language_feature[1:]) > 1:\n",
    "                temp['Platform'] = ''.join(language_feature[1:])\n",
    "            else:\n",
    "                temp['Platform'] = language_feature[1:][0]\n",
    "        \n",
    "        elif re.search('License', language_feature[0]):\n",
    "            if len(language_feature[1:]) > 1:\n",
    "                temp['license'] = ''.join(language_feature[1:])\n",
    "            else:\n",
    "                temp['license'] = language_feature[1:][0]\n",
    "        \n",
    "        elif re.search('Typing.*discipline', language_feature[0]):\n",
    "            if len(language_feature[1:]) > 1:\n",
    "                temp['typing_discipline'] = ''.join(language_feature[1:])\n",
    "            else:\n",
    "                temp['typing_discipline'] = language_feature[1:][0]\n",
    "        \n",
    "        elif re.search('Written.*in', language_feature[0]):\n",
    "            temp['written_in'] = language_feature[1:]\n",
    "            temp['written_in'] = ''.join(temp['written_in'])\n",
    "        \n",
    "        elif re.search('Paradigm', language_feature[0]):\n",
    "            temp['paradigm'] = language_feature[1:]\n",
    "            temp['paradigm'] = ''.join(temp['paradigm'])\n",
    "        counter += 1\n",
    "\n",
    "    return language_name, temp\n"
   ]
  },
  {
   "cell_type": "code",
   "execution_count": 13,
   "id": "2ee98c82",
   "metadata": {},
   "outputs": [
    {
     "data": {
      "text/plain": [
       "('Ada',\n",
       " {'paradigm': 'Multi-paradigm: structured, imperative, object-oriented, concurrent, array, distributed, generic, procedural, meta',\n",
       "  'designed_by': 'MIL-STD-1815, Ada 83: Jean Ichbiah, Ada 95: Tucker Taft, Ada 2005: Tucker Taft, Ada 2012: Tucker Taft',\n",
       "  'initial release': '1980',\n",
       "  'typing_discipline': 'static, strong, safe, nominative',\n",
       "  'OS': 'Multi- or cross-platform'})"
      ]
     },
     "execution_count": 13,
     "metadata": {},
     "output_type": "execute_result"
    }
   ],
   "source": [
    "wiki_scraper('/wiki/Ada_(programming_language)')"
   ]
  },
  {
   "cell_type": "code",
   "execution_count": 14,
   "id": "f4368216",
   "metadata": {},
   "outputs": [
    {
     "name": "stdout",
     "output_type": "stream",
     "text": [
      "The process has taken 0:07:44.876681\n"
     ]
    }
   ],
   "source": [
    "initial_time = datetime.datetime.now()\n",
    "\n",
    "language_json = {}\n",
    "for lk in l_links_to_scrape:\n",
    "    l, t = wiki_scraper(lk)\n",
    "    language_json[l] = t\n",
    "\n",
    "final_time = datetime.datetime.now()\n",
    "time_used = final_time - initial_time\n",
    "print('The process has taken ' + str(time_used))"
   ]
  },
  {
   "cell_type": "code",
   "execution_count": 16,
   "id": "133935cb",
   "metadata": {},
   "outputs": [],
   "source": [
    "tt = pd.DataFrame.from_dict(language_json, orient='index')"
   ]
  },
  {
   "cell_type": "code",
   "execution_count": 17,
   "id": "b4aebb4e",
   "metadata": {},
   "outputs": [],
   "source": [
    "tt.to_csv('./languages_data.csv')"
   ]
  }
 ],
 "metadata": {
  "kernelspec": {
   "display_name": "Python 3 (ipykernel)",
   "language": "python",
   "name": "python3"
  },
  "language_info": {
   "codemirror_mode": {
    "name": "ipython",
    "version": 3
   },
   "file_extension": ".py",
   "mimetype": "text/x-python",
   "name": "python",
   "nbconvert_exporter": "python",
   "pygments_lexer": "ipython3",
   "version": "3.9.12"
  }
 },
 "nbformat": 4,
 "nbformat_minor": 5
}
